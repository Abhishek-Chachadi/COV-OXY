{
 "cells": [
  {
   "cell_type": "code",
   "execution_count": 10,
   "metadata": {},
   "outputs": [],
   "source": [
    "import numpy as np\n",
    "from tensorflow import keras\n",
    "import tensorflow as tf\n",
    "from tensorflow.keras import Sequential\n",
    "from tensorflow.keras.layers import Dense"
   ]
  },
  {
   "cell_type": "code",
   "execution_count": 2,
   "metadata": {},
   "outputs": [],
   "source": [
    "values = np.arange(2, 1000, 2)\n",
    "labels = np.arange(1, 500, 1)"
   ]
  },
  {
   "cell_type": "code",
   "execution_count": 3,
   "metadata": {},
   "outputs": [],
   "source": [
    "model = Sequential([Dense(1, input_shape=[1])])\n",
    "model.compile(optimizer=keras.optimizers.Adam(lr=2), loss=keras.losses.mean_squared_error)"
   ]
  },
  {
   "cell_type": "code",
   "execution_count": 5,
   "metadata": {},
   "outputs": [
    {
     "name": "stdout",
     "output_type": "stream",
     "text": [
      "Epoch 1/100\n",
      "16/16 [==============================] - 3s 9ms/step - loss: 131772.4026\n",
      "Epoch 2/100\n",
      "16/16 [==============================] - 0s 1ms/step - loss: 9682.2910\n",
      "Epoch 3/100\n",
      "16/16 [==============================] - 0s 1ms/step - loss: 3399.2826\n",
      "Epoch 4/100\n",
      "16/16 [==============================] - 0s 1ms/step - loss: 789.5414\n",
      "Epoch 5/100\n",
      "16/16 [==============================] - 0s 1ms/step - loss: 128.3188\n",
      "Epoch 6/100\n",
      "16/16 [==============================] - 0s 1ms/step - loss: 44.4356\n",
      "Epoch 7/100\n",
      "16/16 [==============================] - 0s 960us/step - loss: 10.0711\n",
      "Epoch 8/100\n",
      "16/16 [==============================] - 0s 951us/step - loss: 2.6560\n",
      "Epoch 9/100\n",
      "16/16 [==============================] - 0s 955us/step - loss: 1.0614\n",
      "Epoch 10/100\n",
      "16/16 [==============================] - 0s 977us/step - loss: 0.5456\n",
      "Epoch 11/100\n",
      "16/16 [==============================] - 0s 1ms/step - loss: 0.4212\n",
      "Epoch 12/100\n",
      "16/16 [==============================] - 0s 1ms/step - loss: 0.2878\n",
      "Epoch 13/100\n",
      "16/16 [==============================] - 0s 997us/step - loss: 0.1895\n",
      "Epoch 14/100\n",
      "16/16 [==============================] - 0s 864us/step - loss: 0.1600\n",
      "Epoch 15/100\n",
      "16/16 [==============================] - 0s 864us/step - loss: 0.1272\n",
      "Epoch 16/100\n",
      "16/16 [==============================] - 0s 864us/step - loss: 0.0907\n",
      "Epoch 17/100\n",
      "16/16 [==============================] - 0s 777us/step - loss: 0.0700\n",
      "Epoch 18/100\n",
      "16/16 [==============================] - 0s 864us/step - loss: 0.0522\n",
      "Epoch 19/100\n",
      "16/16 [==============================] - ETA: 0s - loss: 0.048 - 0s 840us/step - loss: 0.0396\n",
      "Epoch 20/100\n",
      "16/16 [==============================] - 0s 931us/step - loss: 0.0393\n",
      "Epoch 21/100\n",
      "16/16 [==============================] - 0s 929us/step - loss: 0.0252\n",
      "Epoch 22/100\n",
      "16/16 [==============================] - 0s 995us/step - loss: 0.0148\n",
      "Epoch 23/100\n",
      "16/16 [==============================] - 0s 931us/step - loss: 0.0094\n",
      "Epoch 24/100\n",
      "16/16 [==============================] - 0s 995us/step - loss: 0.0062\n",
      "Epoch 25/100\n",
      "16/16 [==============================] - 0s 1ms/step - loss: 0.0057\n",
      "Epoch 26/100\n",
      "16/16 [==============================] - 0s 1ms/step - loss: 0.0035\n",
      "Epoch 27/100\n",
      "16/16 [==============================] - 0s 1ms/step - loss: 0.0020\n",
      "Epoch 28/100\n",
      "16/16 [==============================] - 0s 1ms/step - loss: 0.0016\n",
      "Epoch 29/100\n",
      "16/16 [==============================] - 0s 1ms/step - loss: 9.4568e-04\n",
      "Epoch 30/100\n",
      "16/16 [==============================] - 0s 1ms/step - loss: 6.2656e-04\n",
      "Epoch 31/100\n",
      "16/16 [==============================] - 0s 1ms/step - loss: 6.0764e-04\n",
      "Epoch 32/100\n",
      "16/16 [==============================] - 0s 1ms/step - loss: 3.6870e-04\n",
      "Epoch 33/100\n",
      "16/16 [==============================] - 0s 933us/step - loss: 1.8826e-04\n",
      "Epoch 34/100\n",
      "16/16 [==============================] - 0s 969us/step - loss: 2.5412e-04\n",
      "Epoch 35/100\n",
      "16/16 [==============================] - 0s 1ms/step - loss: 8.3803e-05\n",
      "Epoch 36/100\n",
      "16/16 [==============================] - 0s 981us/step - loss: 3.8586e-05\n",
      "Epoch 37/100\n",
      "16/16 [==============================] - 0s 973us/step - loss: 2.9020e-05\n",
      "Epoch 38/100\n",
      "16/16 [==============================] - 0s 931us/step - loss: 1.1830e-05\n",
      "Epoch 39/100\n",
      "16/16 [==============================] - 0s 963us/step - loss: 8.5320e-06\n",
      "Epoch 40/100\n",
      "16/16 [==============================] - 0s 1ms/step - loss: 4.3706e-06\n",
      "Epoch 41/100\n",
      "16/16 [==============================] - 0s 924us/step - loss: 2.1262e-06\n",
      "Epoch 42/100\n",
      "16/16 [==============================] - 0s 1ms/step - loss: 1.2376e-06\n",
      "Epoch 43/100\n",
      "16/16 [==============================] - 0s 953us/step - loss: 7.4097e-07\n",
      "Epoch 44/100\n",
      "16/16 [==============================] - 0s 973us/step - loss: 4.7541e-07\n",
      "Epoch 45/100\n",
      "16/16 [==============================] - 0s 864us/step - loss: 2.8536e-07\n",
      "Epoch 46/100\n",
      "16/16 [==============================] - 0s 997us/step - loss: 1.8987e-07\n",
      "Epoch 47/100\n",
      "16/16 [==============================] - 0s 1ms/step - loss: 1.0291e-07\n",
      "Epoch 48/100\n",
      "16/16 [==============================] - 0s 931us/step - loss: 3.7637e-08\n",
      "Epoch 49/100\n",
      "16/16 [==============================] - 0s 864us/step - loss: 2.1484e-08\n",
      "Epoch 50/100\n",
      "16/16 [==============================] - 0s 778us/step - loss: 1.1424e-08\n",
      "Epoch 51/100\n",
      "16/16 [==============================] - 0s 864us/step - loss: 8.9029e-09\n",
      "Epoch 52/100\n",
      "16/16 [==============================] - 0s 931us/step - loss: 3.8450e-09\n",
      "Epoch 53/100\n",
      "16/16 [==============================] - 0s 864us/step - loss: 2.4160e-09\n",
      "Epoch 54/100\n",
      "16/16 [==============================] - 0s 931us/step - loss: 1.8274e-09\n",
      "Epoch 55/100\n",
      "16/16 [==============================] - 0s 731us/step - loss: 2.5666e-09\n",
      "Epoch 56/100\n",
      "16/16 [==============================] - 0s 847us/step - loss: 3.3121e-09\n",
      "Epoch 57/100\n",
      "16/16 [==============================] - 0s 1ms/step - loss: 2.6610e-09\n",
      "Epoch 58/100\n",
      "16/16 [==============================] - 0s 1ms/step - loss: 3.3642e-09\n",
      "Epoch 59/100\n",
      "16/16 [==============================] - 0s 1ms/step - loss: 5.6451e-12\n",
      "Epoch 60/100\n",
      "16/16 [==============================] - 0s 978us/step - loss: 5.6096e-12\n",
      "Epoch 61/100\n",
      "16/16 [==============================] - 0s 798us/step - loss: 3.8409e-12\n",
      "Epoch 62/100\n",
      "16/16 [==============================] - 0s 786us/step - loss: 1.1089e-12\n",
      "Epoch 63/100\n",
      "16/16 [==============================] - 0s 797us/step - loss: 7.2520e-13\n",
      "Epoch 64/100\n",
      "16/16 [==============================] - 0s 731us/step - loss: 6.6228e-13\n",
      "Epoch 65/100\n",
      "16/16 [==============================] - 0s 798us/step - loss: 5.8516e-13\n",
      "Epoch 66/100\n",
      "16/16 [==============================] - 0s 798us/step - loss: 6.2482e-13\n",
      "Epoch 67/100\n",
      "16/16 [==============================] - 0s 997us/step - loss: 4.0964e-13\n",
      "Epoch 68/100\n",
      "16/16 [==============================] - 0s 864us/step - loss: 8.8238e-14\n",
      "Epoch 69/100\n",
      "16/16 [==============================] - 0s 1ms/step - loss: 8.7359e-14\n",
      "Epoch 70/100\n",
      "16/16 [==============================] - 0s 1ms/step - loss: 9.4673e-14\n",
      "Epoch 71/100\n",
      "16/16 [==============================] - 0s 1ms/step - loss: 1.0766e-13\n",
      "Epoch 72/100\n",
      "16/16 [==============================] - 0s 1ms/step - loss: 6.7032e-14\n",
      "Epoch 73/100\n",
      "16/16 [==============================] - 0s 977us/step - loss: 9.5808e-14\n",
      "Epoch 74/100\n",
      "16/16 [==============================] - 0s 864us/step - loss: 4.7718e-14\n",
      "Epoch 75/100\n",
      "16/16 [==============================] - 0s 798us/step - loss: 8.6244e-14\n",
      "Epoch 76/100\n",
      "16/16 [==============================] - 0s 889us/step - loss: 1.0240e-13\n",
      "Epoch 77/100\n",
      "16/16 [==============================] - 0s 975us/step - loss: 4.7770e-14\n",
      "Epoch 78/100\n",
      "16/16 [==============================] - 0s 885us/step - loss: 4.6900e-14\n",
      "Epoch 79/100\n",
      "16/16 [==============================] - 0s 864us/step - loss: 1.2639e-14\n",
      "Epoch 80/100\n",
      "16/16 [==============================] - 0s 798us/step - loss: 1.8260e-14\n",
      "Epoch 81/100\n",
      "16/16 [==============================] - 0s 798us/step - loss: 1.6594e-14\n",
      "Epoch 82/100\n",
      "16/16 [==============================] - 0s 864us/step - loss: 6.3966e-15\n",
      "Epoch 83/100\n",
      "16/16 [==============================] - 0s 965us/step - loss: 1.6043e-14\n",
      "Epoch 84/100\n",
      "16/16 [==============================] - 0s 864us/step - loss: 1.0283e-14\n",
      "Epoch 85/100\n",
      "16/16 [==============================] - 0s 798us/step - loss: 1.5001e-14\n",
      "Epoch 86/100\n",
      "16/16 [==============================] - 0s 731us/step - loss: 1.8885e-14\n",
      "Epoch 87/100\n",
      "16/16 [==============================] - 0s 731us/step - loss: 1.3139e-14\n",
      "Epoch 88/100\n",
      "16/16 [==============================] - 0s 731us/step - loss: 8.1163e-15\n",
      "Epoch 89/100\n",
      "16/16 [==============================] - 0s 798us/step - loss: 1.1044e-14\n",
      "Epoch 90/100\n",
      "16/16 [==============================] - 0s 821us/step - loss: 1.2505e-14\n",
      "Epoch 91/100\n",
      "16/16 [==============================] - 0s 931us/step - loss: 9.3212e-15\n",
      "Epoch 92/100\n",
      "16/16 [==============================] - 0s 897us/step - loss: 1.1945e-14\n",
      "Epoch 93/100\n",
      "16/16 [==============================] - 0s 864us/step - loss: 7.5963e-15\n",
      "Epoch 94/100\n",
      "16/16 [==============================] - 0s 846us/step - loss: 7.4282e-15\n",
      "Epoch 95/100\n",
      "16/16 [==============================] - 0s 931us/step - loss: 9.8956e-15\n",
      "Epoch 96/100\n"
     ]
    },
    {
     "name": "stdout",
     "output_type": "stream",
     "text": [
      "16/16 [==============================] - 0s 931us/step - loss: 3.8834e-15\n",
      "Epoch 97/100\n",
      "16/16 [==============================] - 0s 908us/step - loss: 3.4372e-15\n",
      "Epoch 98/100\n",
      "16/16 [==============================] - 0s 864us/step - loss: 4.9237e-15\n",
      "Epoch 99/100\n",
      "16/16 [==============================] - 0s 864us/step - loss: 6.9131e-15\n",
      "Epoch 100/100\n",
      "16/16 [==============================] - 0s 798us/step - loss: 2.4964e-15\n"
     ]
    },
    {
     "data": {
      "text/plain": [
       "<tensorflow.python.keras.callbacks.History at 0x1a66a88a630>"
      ]
     },
     "execution_count": 5,
     "metadata": {},
     "output_type": "execute_result"
    }
   ],
   "source": [
    "model.fit(labels, values, epochs=100)"
   ]
  },
  {
   "cell_type": "code",
   "execution_count": 7,
   "metadata": {},
   "outputs": [
    {
     "name": "stdout",
     "output_type": "stream",
     "text": [
      "[[20.]]\n"
     ]
    }
   ],
   "source": [
    "result = model.predict([10])\n",
    "print(result)"
   ]
  },
  {
   "cell_type": "code",
   "execution_count": 8,
   "metadata": {},
   "outputs": [],
   "source": [
    "model.save('regression.h5')"
   ]
  },
  {
   "cell_type": "code",
   "execution_count": 11,
   "metadata": {},
   "outputs": [
    {
     "data": {
      "text/plain": [
       "<tensorflow.python.keras.engine.sequential.Sequential at 0x1a66b9ce390>"
      ]
     },
     "execution_count": 11,
     "metadata": {},
     "output_type": "execute_result"
    }
   ],
   "source": [
    "tf.keras.models.load_model('regression.h5')"
   ]
  },
  {
   "cell_type": "code",
   "execution_count": 12,
   "metadata": {},
   "outputs": [
    {
     "name": "stdout",
     "output_type": "stream",
     "text": [
      "INFO:tensorflow:Assets written to: C:\\Users\\User\\AppData\\Local\\Temp\\tmpuukn4sg4\\assets\n"
     ]
    },
    {
     "data": {
      "text/plain": [
       "832"
      ]
     },
     "execution_count": 12,
     "metadata": {},
     "output_type": "execute_result"
    }
   ],
   "source": [
    "import tensorflow as tf\n",
    "model = tf.keras.models.load_model('regression.h5')\n",
    "converter =tf.lite.TFLiteConverter.from_keras_model(model)\n",
    "converter.optimizations = [tf.lite.Optimize.DEFAULT]\n",
    "tflite_model = converter.convert()\n",
    "open(\"regression.tflite\", \"wb\").write(tflite_model)"
   ]
  },
  {
   "cell_type": "code",
   "execution_count": 13,
   "metadata": {},
   "outputs": [
    {
     "name": "stdout",
     "output_type": "stream",
     "text": [
      "[[200.]]\n"
     ]
    }
   ],
   "source": [
    "import tensorflow as tf\n",
    "import numpy as np\n",
    "\n",
    "interpreter = tf.lite.Interpreter(model_path='regression.tflite')\n",
    "interpreter.allocate_tensors()\n",
    "\n",
    "input_index = interpreter.get_input_details()[0][\"index\"]\n",
    "output_index = interpreter.get_output_details()[0][\"index\"]\n",
    "\n",
    "input_data = np.array([[100]], dtype=np.float32)\n",
    "interpreter.set_tensor(input_index, input_data)\n",
    "interpreter.invoke()\n",
    "\n",
    "print(interpreter.get_tensor(output_index))"
   ]
  },
  {
   "cell_type": "code",
   "execution_count": null,
   "metadata": {},
   "outputs": [],
   "source": []
  }
 ],
 "metadata": {
  "kernelspec": {
   "display_name": "Python 3",
   "language": "python",
   "name": "python3"
  },
  "language_info": {
   "codemirror_mode": {
    "name": "ipython",
    "version": 3
   },
   "file_extension": ".py",
   "mimetype": "text/x-python",
   "name": "python",
   "nbconvert_exporter": "python",
   "pygments_lexer": "ipython3",
   "version": "3.6.12"
  }
 },
 "nbformat": 4,
 "nbformat_minor": 4
}
